{
 "cells": [
  {
   "cell_type": "markdown",
   "metadata": {},
   "source": [
    "## Resuelve los siguientes ejercicios en este archivo."
   ]
  },
  {
   "cell_type": "raw",
   "metadata": {
    "vscode": {
     "languageId": "raw"
    }
   },
   "source": [
    "**Nombre de los integrantes del grupo**"
   ]
  },
  {
   "cell_type": "code",
   "execution_count": 3,
   "metadata": {},
   "outputs": [],
   "source": [
    "#Santiago Castro\n",
    "#José Ramón Rentero"
   ]
  },
  {
   "cell_type": "markdown",
   "metadata": {},
   "source": [
    "Ejercicio 1\n",
    "Usar np.rand.uniform()\n",
    "\n",
    "Ejercicio 2\n",
    "algoritmo de Euclídes (máximo común divisior)"
   ]
  },
  {
   "cell_type": "markdown",
   "metadata": {},
   "source": [
    "**_Ejercicio 1_**. En esta primera práctica has de implementar un algoritmo de integración numérica basado\n",
    "en el método de Monte Carlo.\n",
    "Dada una función real e integrable de una sola variable f(x), y su integral F(x), la integral\n",
    "definida de f(x) entre a y b viene dada por la expresión\n",
    "\n",
    "<img src=\"Integral.jpg\">\n",
    "\n",
    "Como el cálculo simbólico de la integral F(x) puede ser muy difícil, se utilizan métodos numéricos\n",
    "que aproximan su valor utilizando la interpretación geométrica de la integral definida que se\n",
    "corresponde con el área bajo la curva f(x) entre a y b.\n",
    "Dada una función f(x) positiva en el intervalo x 2 [a; b] cuyo valor máximo es M dentro de\n",
    "ese intervalo, podemos definir un rectángulo de área (b - a) x M como el que se muestra en la\n",
    "figura para el intervalo [0; 2]. El método de Monte Carlo para el cálculo de la integral consiste\n",
    "en generar aleatoriamente puntos (en rojo en la figura) dentro de ese rectángulo y aproximar el\n",
    "valor de la integral por el porcentaje de puntos que caen por debajo de la función en cuestión:\n",
    "\n",
    "<img src=\"Integral2.jpg\">\n",
    "\n",
    "donde Ndebajo es el número de puntos (x; y) generados aleatoriamente cuya coordenada y es\n",
    "menor que el valor de la función f(x) para ese valor de x y Ntotal es el número total de puntos\n",
    "generados aleatoriamente dentro del rectángulo.\n",
    "\n",
    "Implementa en Python una función con la siguiente cabecera\n",
    "\n",
    "def integra_mc(fun, a, b, num_puntos=10000)\n",
    "\n",
    "Que calcule la integral de fun entre a y b por el método de Monte Carlo antes descrito, generando\n",
    "para ello num_puntos aleatoriamente. Puedes comprobar la corrección del resultado obtenido,\n",
    "comparándolo con el de aplicar la función scip.integrate.quad de Python.\n",
    "No es necesario que tu implementación resuelva el problema de forma general, es suficiente\n",
    "con que calcule el resultado para una función definida por ti que sea >= 0 en el intervalo [a; b] y\n",
    "que se pueda aplicar tanto a un número como a un array de numpy. Por ejemplo -x^(2)+ 4x en el intervalo [0; 4]\n",
    "\n",
    "<img src=\"Integral3.jpg\">"
   ]
  },
  {
   "cell_type": "code",
   "execution_count": 14,
   "metadata": {},
   "outputs": [
    {
     "name": "stdout",
     "output_type": "stream",
     "text": [
      "[0 1 2 3 4 5 6 7 8 9]\n",
      "[3, 1, 1, 3, 7, 13, 21, 31, 43, 57]\n",
      "Punto máximo:  7\n",
      "[3.05587077 2.90154899 1.18448611 ... 3.91004023 3.65705803 2.75704991] [3.60312779 0.26777323 0.04983814 ... 2.44079145 5.33557303 0.35730329]\n",
      "9.4024\n"
     ]
    },
    {
     "data": {
      "image/png": "[encoded data removed]",
      "text/plain": [
       "<Figure size 640x480 with 1 Axes>"
      ]
     },
     "metadata": {},
     "output_type": "display_data"
    }
   ],
   "source": [
    "# Escribe aquí la solución del ejercicio 1.\n",
    "import numpy as np\n",
    "import matplotlib.pyplot as plt\n",
    "\n",
    "%matplotlib inline\n",
    "\n",
    "\n",
    "fun = lambda x:3 -3*x + x**2\n",
    "\n",
    "x = np.arange(10)  # obtiene la lista [0,1...9]\n",
    "y = [fun(v) for v in x] # los cuadrados\n",
    "print(x)\n",
    "print(y)\n",
    "num1, num2 = 0, 4\n",
    "\n",
    "def integra_mc(fun, a, b, num_puntos=10000):\n",
    "    resultado = 0\n",
    "    M=0\n",
    "\n",
    "    for aux in range(a,b+1,1): #range hace un intervalo cerrado por la derecha y abierto por la izquierda\n",
    "        if(fun(aux)>M):\n",
    "            M=fun(aux)\n",
    "    \n",
    "    print(\"Punto máximo: \", M)\n",
    "        \n",
    "    listax = np.random.uniform(a, b,num_puntos)\n",
    "    listay = np.random.uniform(0, M,num_puntos)\n",
    "\n",
    "    print (listax,listay)\n",
    "    for num in range(0,num_puntos):\n",
    "        if(fun(listax[num])>= listay[num]):\n",
    "            resultado = resultado + 1\n",
    "        '''\n",
    "        if fun(a) <= fun(listax[num]) and fun(listax[num]) < fun(b):\n",
    "            if fun(a) <= fun(listay[num]) and fun(listay[num]) <fun(b):\n",
    "                resultado = resultado + 1\n",
    "        '''\n",
    "    \n",
    "    resultado = (resultado/num_puntos)*(b-a)*M\n",
    "\n",
    "    return resultado, listax, listay\n",
    "\n",
    "result = integra_mc(fun, num1, num2,10000)\n",
    "print(result[0])\n",
    "\n",
    "# Plot the data\n",
    "plt.plot(x, y, label=fun)\n",
    "\n",
    "# Plot the point (3, 3) as an 'x'\n",
    "plt.scatter(result[1], result[2], color='red', marker='x')\n",
    "\n",
    "# La leyenda x^2\n",
    "plt.legend()\n",
    "\n",
    "plt.grid(True)\n",
    "\n",
    "# título \n",
    "plt.title(\"Una figura sencilla\")\n",
    "\n",
    "# mostrar el resultado\n",
    "plt.show()\n",
    "\n",
    "\n"
   ]
  },
  {
   "cell_type": "markdown",
   "metadata": {},
   "source": [
    "**Ejercicio 2:** Crea dos funciones en Python que calcule el mínimo común múltiplo de dos números y el máximo común divisor de dos números."
   ]
  },
  {
   "cell_type": "code",
   "execution_count": 2,
   "metadata": {},
   "outputs": [],
   "source": [
    "# Escribe aquí la solución del ejercicio 2."
   ]
  },
  {
   "cell_type": "markdown",
   "metadata": {},
   "source": [
    "**Ejericico 3:** Crea usando POO la clase Figura y que hereden de ella la clase Cuadrilatero, Rectangulo, Rombo, Triangulo y Circulo. Usa la lógica para contruir las relaciones Es-Un de todas las clases. El código debe respetar las buenas prácticas de POO como por ejemplo encapsulacón, no repetir código innecesario, etc.\n",
    "\n",
    "Las clases deben tener los siguientes métodos:\n",
    "- Show() muestra la figura. Podeis optar por mostrarla usando alguna librería gráfica o simplemente por consola mostrando los valores de sus atributos.\n",
    "- Area() devuelve el área de la figura.\n",
    "- Equal(figura) devuelve True si dos figuras son iguales. Para que dós figuras sean iguales deben ser del mismo tipo, y además tener la misma forma (mismo área y dimensiones)\n",
    "- OrderByArea(figura) devuelve dos figuras, la actual y la que se le pasa por parámetro, pero la primera será la que magor área tiene y la segunda la que menor área tiene. Utiiza la habilidad de Python para devolver más de una valor en una función."
   ]
  },
  {
   "cell_type": "code",
   "execution_count": null,
   "metadata": {},
   "outputs": [
    {
     "ename": "",
     "evalue": "",
     "output_type": "error",
     "traceback": [
      "\u001b[1;31mRunning cells with 'c:\\software\\multimedia\\MUSpython36\\python.exe' requires the ipykernel package.\n",
      "\u001b[1;31mRun the following command to install 'ipykernel' into the Python environment. \n",
      "\u001b[1;31mCommand: 'c:/software/multimedia/MUSpython36/python.exe -m pip install ipykernel -U --user --force-reinstall'"
     ]
    }
   ],
   "source": [
    "# Escribe aquí la solución del ejercicio 3."
   ]
  }
 ],
 "metadata": {
  "kernelspec": {
   "display_name": "Python 3",
   "language": "python",
   "name": "python3"
  },
  "language_info": {
   "codemirror_mode": {
    "name": "ipython",
    "version": 3
   },
   "file_extension": ".py",
   "mimetype": "text/x-python",
   "name": "python",
   "nbconvert_exporter": "python",
   "pygments_lexer": "ipython3",
   "version": "3.12.2"
  }
 },
 "nbformat": 4,
 "nbformat_minor": 4
}
